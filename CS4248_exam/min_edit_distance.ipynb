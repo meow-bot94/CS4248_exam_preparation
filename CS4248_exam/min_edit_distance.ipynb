{
 "cells": [
  {
   "metadata": {},
   "cell_type": "markdown",
   "source": "The Levenshtein distance allows deletion, insertion and substitution. The longest common subsequence (LCS) distance allows only insertion and deletion, not substitution. The Hamming distance allows only substitution, hence, it only applies to strings of the same length.",
   "id": "d5f0439d7733cc10"
  },
  {
   "metadata": {},
   "cell_type": "markdown",
   "source": "Lecture assumes substitute cost = 2",
   "id": "205b6a17e4a959bc"
  },
  {
   "cell_type": "code",
   "id": "initial_id",
   "metadata": {
    "collapsed": true,
    "ExecuteTime": {
     "end_time": "2024-04-28T14:10:17.883614Z",
     "start_time": "2024-04-28T14:10:17.855623Z"
    }
   },
   "source": [
    "from Levenshtein import distance, opcodes\n",
    "\n",
    "print(distance(\"lewenstein\", \"levenshtein\", weights=(1, 1, 2)))\n",
    "list(opcodes(\"lewenstein\", \"levenshtein\"))"
   ],
   "outputs": [
    {
     "name": "stdout",
     "output_type": "stream",
     "text": [
      "3\n"
     ]
    },
    {
     "data": {
      "text/plain": [
       "[('equal', 0, 2, 0, 2),\n",
       " ('replace', 2, 3, 2, 3),\n",
       " ('equal', 3, 6, 3, 6),\n",
       " ('insert', 6, 6, 6, 7),\n",
       " ('equal', 6, 10, 7, 11)]"
      ]
     },
     "execution_count": 13,
     "metadata": {},
     "output_type": "execute_result"
    }
   ],
   "execution_count": 13
  },
  {
   "metadata": {
    "ExecuteTime": {
     "end_time": "2024-04-28T14:13:06.947074Z",
     "start_time": "2024-04-28T14:13:06.923982Z"
    }
   },
   "cell_type": "code",
   "source": [
    "from difflib import SequenceMatcher\n",
    "SequenceMatcher(None, \"lewenstein\", \"levenshtein\").get_opcodes()"
   ],
   "id": "83618cc7482b5a52",
   "outputs": [
    {
     "data": {
      "text/plain": [
       "[('equal', 0, 2, 0, 2),\n",
       " ('replace', 2, 3, 2, 3),\n",
       " ('equal', 3, 6, 3, 6),\n",
       " ('insert', 6, 6, 6, 7),\n",
       " ('equal', 6, 10, 7, 11)]"
      ]
     },
     "execution_count": 15,
     "metadata": {},
     "output_type": "execute_result"
    }
   ],
   "execution_count": 15
  }
 ],
 "metadata": {
  "kernelspec": {
   "display_name": "Python3.10 cs4248",
   "language": "python",
   "name": "cs4247"
  },
  "language_info": {
   "codemirror_mode": {
    "name": "ipython",
    "version": 2
   },
   "file_extension": ".py",
   "mimetype": "text/x-python",
   "name": "python",
   "nbconvert_exporter": "python",
   "pygments_lexer": "ipython2",
   "version": "2.7.6"
  }
 },
 "nbformat": 4,
 "nbformat_minor": 5
}
