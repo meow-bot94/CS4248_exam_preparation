{
 "cells": [
  {
   "cell_type": "code",
   "id": "initial_id",
   "metadata": {
    "collapsed": true,
    "ExecuteTime": {
     "end_time": "2024-04-29T07:39:58.342163Z",
     "start_time": "2024-04-29T07:39:58.331116Z"
    }
   },
   "source": [
    "from collections import defaultdict\n",
    "\n",
    "import pandas as pd"
   ],
   "outputs": [],
   "execution_count": 2
  },
  {
   "metadata": {
    "ExecuteTime": {
     "end_time": "2024-04-29T08:05:57.347037Z",
     "start_time": "2024-04-29T08:05:57.333547Z"
    }
   },
   "cell_type": "code",
   "source": [
    "loose_token_type = tuple[str, str] | tuple[str]\n",
    "class CykParser:\n",
    "    def __init__(self, rules: list[tuple[str, loose_token_type]], probs: dict[str, dict[loose_token_type, float]]):\n",
    "        self.rules = rules\n",
    "        self.probs = probs\n",
    "        self.binary_rules = [r for r in self.rules if len(r[1]) == 2]\n",
    "    \n",
    "    def parse(self, tokens: list[str]):\n",
    "        n = len(tokens)\n",
    "        CYK = defaultdict(lambda: defaultdict(lambda: defaultdict(lambda: 0)))\n",
    "        PTR  = defaultdict(lambda: defaultdict(lambda: defaultdict(list)))\n",
    "        \n",
    "        for s in range(n):\n",
    "            current_token = (tokens[s],)\n",
    "            for A, rhs in self.rules:\n",
    "                if rhs == current_token:\n",
    "                    CYK[s][s+1][A] = self.probs[A][current_token]\n",
    "                    PTR[s][s+1][A].append(current_token)\n",
    "        \n",
    "        for l in range(2, n+1):\n",
    "            for start in range(0, n-l+1):\n",
    "                end = start + l\n",
    "                for split in range(start+1, end):\n",
    "                    for A, (B,C) in self.binary_rules:\n",
    "                        p = CYK[start][split][B] * CYK[split][end][C] * self.probs[A][(B, C)]\n",
    "                        if p > CYK[start][end][A]:\n",
    "                            CYK[start][end][A] = p\n",
    "                            PTR[start][end][A].append(([start, split, B], [split, end, C]))\n",
    "        return CYK, PTR"
   ],
   "id": "88f8fb7a9393d0bd",
   "outputs": [],
   "execution_count": 39
  },
  {
   "metadata": {
    "ExecuteTime": {
     "end_time": "2024-04-29T08:06:39.003190Z",
     "start_time": "2024-04-29T08:06:38.989134Z"
    }
   },
   "cell_type": "code",
   "source": [
    "data = [\n",
    "    ('S', ('NP', 'VP'), 0.4),\n",
    "    ('S', ('V', 'NP'), 0.4),\n",
    "    ('S', ('time',), 0.1),\n",
    "    ('S', ('flies',), 0.1),\n",
    "    ('NP', ('N', 'N'), 1.0),\n",
    "    ('VP', ('V', 'NP'), 0.5),\n",
    "    ('VP', ('time', ), 0.3),\n",
    "    ('VP', ('flies',), 0.2),\n",
    "    ('N', ('time',), 0.4),\n",
    "    ('N', ('flies',), 0.4),\n",
    "    ('N', ('fruit',), 0.2),\n",
    "    ('V', ('time', ), 0.6),\n",
    "    ('V', ('flies',), 0.4),\n",
    "]\n",
    "rules = [(lhs, rhs) for lhs, rhs, prob in data]\n",
    "probs = defaultdict(lambda: defaultdict(float))\n",
    "for lhs, rhs, prob in data:\n",
    "    probs[lhs][rhs] = prob\n"
   ],
   "id": "56888980f764b9f3",
   "outputs": [],
   "execution_count": 44
  },
  {
   "metadata": {
    "ExecuteTime": {
     "end_time": "2024-04-29T08:08:06.938804Z",
     "start_time": "2024-04-29T08:08:06.921616Z"
    }
   },
   "cell_type": "code",
   "source": [
    "tokens = ['time', 'fruit', 'flies']\n",
    "token_length = len(tokens)\n",
    "parser = CykParser(rules, probs)\n",
    "CYK, PTR = parser.parse(tokens)\n",
    "CYK[0][token_length]"
   ],
   "id": "90c3a92b05748cff",
   "outputs": [
    {
     "data": {
      "text/plain": [
       "defaultdict(<function __main__.CykParser.parse.<locals>.<lambda>.<locals>.<lambda>.<locals>.<lambda>()>,\n",
       "            {'S': 0.019200000000000005, 'NP': 0, 'VP': 0.024000000000000004})"
      ]
     },
     "execution_count": 51,
     "metadata": {},
     "output_type": "execute_result"
    }
   ],
   "execution_count": 51
  },
  {
   "metadata": {
    "ExecuteTime": {
     "end_time": "2024-04-29T08:09:27.270135Z",
     "start_time": "2024-04-29T08:09:27.258599Z"
    }
   },
   "cell_type": "code",
   "source": [
    "for i in range(token_length):\n",
    "    for j in range(token_length):\n",
    "        print((i, j+1), dict(CYK[i][j+1]))"
   ],
   "id": "37501b6c4753c4c0",
   "outputs": [
    {
     "name": "stdout",
     "output_type": "stream",
     "text": [
      "(0, 1) {'S': 0.1, 'VP': 0.3, 'N': 0.4, 'V': 0.6, 'NP': 0}\n",
      "(0, 2) {'S': 0, 'NP': 0.08000000000000002, 'VP': 0, 'V': 0, 'N': 0}\n",
      "(0, 3) {'S': 0.019200000000000005, 'NP': 0, 'VP': 0.024000000000000004}\n",
      "(1, 1) {}\n",
      "(1, 2) {'N': 0.2, 'VP': 0, 'NP': 0, 'V': 0}\n",
      "(1, 3) {'S': 0, 'NP': 0.08000000000000002, 'VP': 0, 'N': 0}\n",
      "(2, 1) {}\n",
      "(2, 2) {}\n",
      "(2, 3) {'S': 0.1, 'VP': 0.2, 'N': 0.4, 'V': 0.4, 'NP': 0}\n"
     ]
    }
   ],
   "execution_count": 53
  },
  {
   "metadata": {
    "ExecuteTime": {
     "end_time": "2024-04-29T08:12:09.899475Z",
     "start_time": "2024-04-29T08:12:09.881467Z"
    }
   },
   "cell_type": "code",
   "source": [
    "df_data = [\n",
    "    [dict(CYK[i][j+1]) for j in range(token_length)]\n",
    "    for i in range(token_length)\n",
    "]\n",
    "df_data"
   ],
   "id": "873b4cdbb4aeed89",
   "outputs": [
    {
     "data": {
      "text/plain": [
       "[[{'S': 0.1, 'VP': 0.3, 'N': 0.4, 'V': 0.6, 'NP': 0},\n",
       "  {'S': 0, 'NP': 0.08000000000000002, 'VP': 0, 'V': 0, 'N': 0},\n",
       "  {'S': 0.019200000000000005, 'NP': 0, 'VP': 0.024000000000000004}],\n",
       " [{},\n",
       "  {'N': 0.2, 'VP': 0, 'NP': 0, 'V': 0},\n",
       "  {'S': 0, 'NP': 0.08000000000000002, 'VP': 0, 'N': 0}],\n",
       " [{}, {}, {'S': 0.1, 'VP': 0.2, 'N': 0.4, 'V': 0.4, 'NP': 0}]]"
      ]
     },
     "execution_count": 55,
     "metadata": {},
     "output_type": "execute_result"
    }
   ],
   "execution_count": 55
  },
  {
   "metadata": {
    "ExecuteTime": {
     "end_time": "2024-04-29T08:12:47.811632Z",
     "start_time": "2024-04-29T08:12:47.772005Z"
    }
   },
   "cell_type": "code",
   "source": "pd.DataFrame(df_data, columns=tokens, index=tokens)",
   "id": "73f96aed37e81e3",
   "outputs": [
    {
     "data": {
      "text/plain": [
       "                                                    time  \\\n",
       "time   {'S': 0.1, 'VP': 0.3, 'N': 0.4, 'V': 0.6, 'NP'...   \n",
       "fruit                                                 {}   \n",
       "flies                                                 {}   \n",
       "\n",
       "                                                   fruit  \\\n",
       "time   {'S': 0, 'NP': 0.08000000000000002, 'VP': 0, '...   \n",
       "fruit               {'N': 0.2, 'VP': 0, 'NP': 0, 'V': 0}   \n",
       "flies                                                 {}   \n",
       "\n",
       "                                                   flies  \n",
       "time   {'S': 0.019200000000000005, 'NP': 0, 'VP': 0.0...  \n",
       "fruit  {'S': 0, 'NP': 0.08000000000000002, 'VP': 0, '...  \n",
       "flies  {'S': 0.1, 'VP': 0.2, 'N': 0.4, 'V': 0.4, 'NP'...  "
      ],
      "text/html": [
       "<div>\n",
       "<style scoped>\n",
       "    .dataframe tbody tr th:only-of-type {\n",
       "        vertical-align: middle;\n",
       "    }\n",
       "\n",
       "    .dataframe tbody tr th {\n",
       "        vertical-align: top;\n",
       "    }\n",
       "\n",
       "    .dataframe thead th {\n",
       "        text-align: right;\n",
       "    }\n",
       "</style>\n",
       "<table border=\"1\" class=\"dataframe\">\n",
       "  <thead>\n",
       "    <tr style=\"text-align: right;\">\n",
       "      <th></th>\n",
       "      <th>time</th>\n",
       "      <th>fruit</th>\n",
       "      <th>flies</th>\n",
       "    </tr>\n",
       "  </thead>\n",
       "  <tbody>\n",
       "    <tr>\n",
       "      <th>time</th>\n",
       "      <td>{'S': 0.1, 'VP': 0.3, 'N': 0.4, 'V': 0.6, 'NP'...</td>\n",
       "      <td>{'S': 0, 'NP': 0.08000000000000002, 'VP': 0, '...</td>\n",
       "      <td>{'S': 0.019200000000000005, 'NP': 0, 'VP': 0.0...</td>\n",
       "    </tr>\n",
       "    <tr>\n",
       "      <th>fruit</th>\n",
       "      <td>{}</td>\n",
       "      <td>{'N': 0.2, 'VP': 0, 'NP': 0, 'V': 0}</td>\n",
       "      <td>{'S': 0, 'NP': 0.08000000000000002, 'VP': 0, '...</td>\n",
       "    </tr>\n",
       "    <tr>\n",
       "      <th>flies</th>\n",
       "      <td>{}</td>\n",
       "      <td>{}</td>\n",
       "      <td>{'S': 0.1, 'VP': 0.2, 'N': 0.4, 'V': 0.4, 'NP'...</td>\n",
       "    </tr>\n",
       "  </tbody>\n",
       "</table>\n",
       "</div>"
      ]
     },
     "execution_count": 57,
     "metadata": {},
     "output_type": "execute_result"
    }
   ],
   "execution_count": 57
  }
 ],
 "metadata": {
  "kernelspec": {
   "display_name": "Python 3",
   "language": "python",
   "name": "python3"
  },
  "language_info": {
   "codemirror_mode": {
    "name": "ipython",
    "version": 2
   },
   "file_extension": ".py",
   "mimetype": "text/x-python",
   "name": "python",
   "nbconvert_exporter": "python",
   "pygments_lexer": "ipython2",
   "version": "2.7.6"
  }
 },
 "nbformat": 4,
 "nbformat_minor": 5
}
