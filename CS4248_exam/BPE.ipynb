{
 "cells": [
  {
   "cell_type": "code",
   "id": "initial_id",
   "metadata": {
    "collapsed": true,
    "ExecuteTime": {
     "end_time": "2024-04-28T17:18:01.097752Z",
     "start_time": "2024-04-28T17:18:01.073545Z"
    }
   },
   "source": [
    "# install and import libraries\n",
    "from collections import Counter, defaultdict\n",
    "from nltk.tokenize import wordpunct_tokenize\n",
    "\n",
    "class BPE:\n",
    "    \"\"\"Byte-Pair Encoding: Subword-based tokenization algorithm.\"\"\"\n",
    "\n",
    "    def __init__(self, corpus, vocab_size: int = None, num_iter: int = None):\n",
    "        \"\"\"Initialize BPE tokenizer.\"\"\"\n",
    "        self.corpus = corpus\n",
    "        self.vocab_size = vocab_size\n",
    "        self.num_iter = num_iter\n",
    "\n",
    "        # pre-tokenize the corpus into words, BERT pre-tokenizer is used here\n",
    "        self.tokenizer = wordpunct_tokenize\n",
    "        self.word_freqs = defaultdict(int)\n",
    "        self.splits = {}\n",
    "        self.merges = {}\n",
    "        \n",
    "        self._iter_vocab = []\n",
    "        self._num_iter = 0\n",
    "        assert self._iter_vocab or self._num_iter\n",
    "        \n",
    "    def _iteration_criteria(self) -> bool:\n",
    "        if self.vocab_size:\n",
    "            return len(self._iter_vocab) < self.vocab_size\n",
    "        else:\n",
    "            return self._num_iter < self.num_iter\n",
    "\n",
    "\n",
    "    def train(self):\n",
    "        \"\"\"Train BPE tokenizer.\"\"\"\n",
    "\n",
    "        # compute the frequencies of each word in the corpus\n",
    "        for text in self.corpus:\n",
    "            new_words = [f'{word}_' for word in self.tokenizer(text)]\n",
    "            for word in new_words:\n",
    "                self.word_freqs[word] += 1\n",
    "\n",
    "        # compute the base vocabulary of all characters in the corpus\n",
    "        alphabet = []\n",
    "        for word in self.word_freqs.keys():\n",
    "            for letter in word:\n",
    "                if letter not in alphabet:\n",
    "                    alphabet.append(letter)\n",
    "        alphabet.sort()\n",
    "\n",
    "        # add the special token </w> at the beginning of the vocabulary\n",
    "        vocab = [\"</w>\"] + alphabet.copy()\n",
    "        self._iter_vocab = vocab\n",
    "\n",
    "        # split each word into individual characters before training\n",
    "        self.splits = {word: [c for c in word] for word in self.word_freqs.keys()}\n",
    "\n",
    "        self._num_iter = 0\n",
    "        # merge the most frequent pair iteratively until the vocabulary size is reached\n",
    "        while self._iteration_criteria():\n",
    "\n",
    "            # compute the frequency of each pair\n",
    "            pair_freqs = self.compute_pair_freqs()\n",
    "\n",
    "            # find the most frequent pair\n",
    "            best_pair = \"\"\n",
    "            max_freq = None\n",
    "            for pair, freq in pair_freqs.items():\n",
    "                if max_freq is None or max_freq < freq:\n",
    "                    best_pair = pair\n",
    "                    max_freq = freq\n",
    "\n",
    "            # merge the most frequent pair\n",
    "            self.splits = self.merge_pair(*best_pair)\n",
    "            self.merges[best_pair] = best_pair[0] + best_pair[1]\n",
    "            vocab.append(best_pair[0] + best_pair[1])\n",
    "            self._num_iter += 1\n",
    "        return self.merges\n",
    "\n",
    "\n",
    "    def compute_pair_freqs(self):\n",
    "        \"\"\"Compute the frequency of each pair.\"\"\"\n",
    "\n",
    "        pair_freqs = defaultdict(int)\n",
    "        for word, freq in self.word_freqs.items():\n",
    "            split = self.splits[word]\n",
    "            if len(split) == 1:\n",
    "                continue\n",
    "            for i in range(len(split) - 1):\n",
    "                pair = (split[i], split[i + 1])\n",
    "                pair_freqs[pair] += freq\n",
    "        return pair_freqs\n",
    "\n",
    "\n",
    "    def merge_pair(self, a, b):\n",
    "        \"\"\"Merge the given pair.\"\"\"\n",
    "\n",
    "        for word in self.word_freqs:\n",
    "            split = self.splits[word]\n",
    "            if len(split) == 1:\n",
    "                continue\n",
    "            i = 0\n",
    "            while i < len(split) - 1:\n",
    "                if split[i] == a and split[i + 1] == b:\n",
    "                    split = split[:i] + [a + b] + split[i + 2 :]\n",
    "                else:\n",
    "                    i += 1\n",
    "            self.splits[word] = split\n",
    "        return self.splits\n",
    "\n",
    "\n",
    "    def tokenize(self, text):\n",
    "        \"\"\"Tokenize a given text with trained BPE tokenizer (including pre-tokenization, split, and merge).\"\"\"\n",
    "\n",
    "        pre_tokenized_text = [f'{word}_' for word in self.tokenizer(text)]\n",
    "        splits_text = [[l for l in word] for word in pre_tokenized_text]\n",
    "\n",
    "        for pair, merge in self.merges.items():\n",
    "            for idx, split in enumerate(splits_text):\n",
    "                i = 0\n",
    "                while i < len(split) - 1:\n",
    "                    if split[i] == pair[0] and split[i + 1] == pair[1]:\n",
    "                        split = split[:i] + [merge] + split[i + 2 :]\n",
    "                    else:\n",
    "                        i += 1\n",
    "                splits_text[idx] = split\n",
    "        result = sum(splits_text, [])\n",
    "        return result"
   ],
   "outputs": [],
   "execution_count": 25
  },
  {
   "metadata": {
    "ExecuteTime": {
     "end_time": "2024-04-28T17:20:13.498586Z",
     "start_time": "2024-04-28T17:20:13.480861Z"
    }
   },
   "cell_type": "code",
   "source": [
    "text = 'target pasta star star pasta star'\n",
    "\n",
    "bpe = BPE([text], vocab_size=14)\n",
    "print(bpe.train())\n",
    "print(bpe.tokenize('tapas'))\n",
    "print(bpe.tokenize('stata'))"
   ],
   "id": "c19bd4de124e5734",
   "outputs": [
    {
     "name": "stdout",
     "output_type": "stream",
     "text": [
      "{('t', 'a'): 'ta', ('s', 'ta'): 'sta', ('sta', 'r'): 'star', ('star', '_'): 'star_', ('p', 'a'): 'pa'}\n",
      "['ta', 'pa', 's', '_']\n",
      "['sta', 'ta', '_']\n"
     ]
    }
   ],
   "execution_count": 35
  },
  {
   "metadata": {
    "ExecuteTime": {
     "end_time": "2024-04-28T17:20:11.770433Z",
     "start_time": "2024-04-28T17:20:11.749541Z"
    }
   },
   "cell_type": "code",
   "source": [
    "text = 'target pasta star star pasta star'\n",
    "\n",
    "bpe = BPE([text], num_iter=6)\n",
    "print(bpe.train())\n",
    "print(bpe.tokenize('tapas'))\n",
    "print(bpe.tokenize('stata'))"
   ],
   "id": "1415504116c37b8",
   "outputs": [
    {
     "name": "stdout",
     "output_type": "stream",
     "text": [
      "{('t', 'a'): 'ta', ('s', 'ta'): 'sta', ('sta', 'r'): 'star', ('star', '_'): 'star_', ('p', 'a'): 'pa', ('pa', 'sta'): 'pasta'}\n",
      "['ta', 'pa', 's', '_']\n",
      "['sta', 'ta', '_']\n"
     ]
    }
   ],
   "execution_count": 34
  },
  {
   "metadata": {},
   "cell_type": "code",
   "outputs": [],
   "execution_count": null,
   "source": "",
   "id": "55a306a75f0170df"
  },
  {
   "metadata": {},
   "cell_type": "code",
   "outputs": [],
   "execution_count": null,
   "source": "",
   "id": "3a9175544e9d1263"
  }
 ],
 "metadata": {
  "kernelspec": {
   "display_name": "Python 3",
   "language": "python",
   "name": "python3"
  },
  "language_info": {
   "codemirror_mode": {
    "name": "ipython",
    "version": 2
   },
   "file_extension": ".py",
   "mimetype": "text/x-python",
   "name": "python",
   "nbconvert_exporter": "python",
   "pygments_lexer": "ipython2",
   "version": "2.7.6"
  }
 },
 "nbformat": 4,
 "nbformat_minor": 5
}
