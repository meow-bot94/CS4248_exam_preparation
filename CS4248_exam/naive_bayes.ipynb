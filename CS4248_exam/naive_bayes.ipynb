{
 "cells": [
  {
   "cell_type": "code",
   "id": "initial_id",
   "metadata": {
    "collapsed": true,
    "ExecuteTime": {
     "end_time": "2024-04-29T04:14:23.773675Z",
     "start_time": "2024-04-29T04:14:23.136787Z"
    }
   },
   "source": [
    "import pandas as pd\n",
    "import numpy as np"
   ],
   "outputs": [],
   "execution_count": 1
  },
  {
   "metadata": {
    "ExecuteTime": {
     "end_time": "2024-04-29T04:23:45.632590Z",
     "start_time": "2024-04-29T04:23:45.623392Z"
    }
   },
   "cell_type": "code",
   "source": [
    "data = [\n",
    "    [0, 1, 2, 1, 'neg'],\n",
    "    [2, 1, 2, 3, 'neg'],\n",
    "    [0, 0, 1, 1, 'neg'],\n",
    "    [3, 3, 0, 0, 'pos'],\n",
    "    [2, 0, 1, 0, 'pos'],\n",
    "]\n",
    "data_df = pd.DataFrame(data, columns=['exciting', 'happy', 'upset', 'furious', 'class'])"
   ],
   "id": "535ef84916197697",
   "outputs": [],
   "execution_count": 28
  },
  {
   "metadata": {},
   "cell_type": "code",
   "outputs": [
    {
     "data": {
      "text/plain": [
       "class\n",
       "neg    0.6\n",
       "pos    0.4\n",
       "dtype: float64"
      ]
     },
     "execution_count": 31,
     "metadata": {},
     "output_type": "execute_result"
    }
   ],
   "execution_count": 31,
   "source": [
    "prior = data_df.groupby('class').size()\n",
    "prior = prior/prior.sum()\n",
    "prior"
   ],
   "id": "abbf36f7ed722751"
  },
  {
   "metadata": {
    "ExecuteTime": {
     "end_time": "2024-04-29T04:23:46.364771Z",
     "start_time": "2024-04-29T04:23:46.339315Z"
    }
   },
   "cell_type": "code",
   "source": [
    "pos_neg = data_df.groupby('class').sum()\n",
    "# pos_neg = pos_neg.clip(upper=1)  # if binary\n",
    "pos_neg"
   ],
   "id": "93745f8c7da3130f",
   "outputs": [
    {
     "data": {
      "text/plain": [
       "       exciting  happy  upset  furious\n",
       "class                                 \n",
       "neg           2      2      5        5\n",
       "pos           5      3      1        0"
      ],
      "text/html": [
       "<div>\n",
       "<style scoped>\n",
       "    .dataframe tbody tr th:only-of-type {\n",
       "        vertical-align: middle;\n",
       "    }\n",
       "\n",
       "    .dataframe tbody tr th {\n",
       "        vertical-align: top;\n",
       "    }\n",
       "\n",
       "    .dataframe thead th {\n",
       "        text-align: right;\n",
       "    }\n",
       "</style>\n",
       "<table border=\"1\" class=\"dataframe\">\n",
       "  <thead>\n",
       "    <tr style=\"text-align: right;\">\n",
       "      <th></th>\n",
       "      <th>exciting</th>\n",
       "      <th>happy</th>\n",
       "      <th>upset</th>\n",
       "      <th>furious</th>\n",
       "    </tr>\n",
       "    <tr>\n",
       "      <th>class</th>\n",
       "      <th></th>\n",
       "      <th></th>\n",
       "      <th></th>\n",
       "      <th></th>\n",
       "    </tr>\n",
       "  </thead>\n",
       "  <tbody>\n",
       "    <tr>\n",
       "      <th>neg</th>\n",
       "      <td>2</td>\n",
       "      <td>2</td>\n",
       "      <td>5</td>\n",
       "      <td>5</td>\n",
       "    </tr>\n",
       "    <tr>\n",
       "      <th>pos</th>\n",
       "      <td>5</td>\n",
       "      <td>3</td>\n",
       "      <td>1</td>\n",
       "      <td>0</td>\n",
       "    </tr>\n",
       "  </tbody>\n",
       "</table>\n",
       "</div>"
      ]
     },
     "execution_count": 29,
     "metadata": {},
     "output_type": "execute_result"
    }
   ],
   "execution_count": 29
  },
  {
   "metadata": {
    "ExecuteTime": {
     "end_time": "2024-04-29T04:23:47.522960Z",
     "start_time": "2024-04-29T04:23:47.497293Z"
    }
   },
   "cell_type": "code",
   "source": [
    "pos_neg = pos_neg + 1\n",
    "pos_neg = pos_neg.apply(lambda row: row / row.sum(), axis=1)\n",
    "pos_neg"
   ],
   "id": "bee6176a48e7df9d",
   "outputs": [
    {
     "data": {
      "text/plain": [
       "       exciting     happy     upset   furious\n",
       "class                                        \n",
       "neg    0.166667  0.166667  0.333333  0.333333\n",
       "pos    0.461538  0.307692  0.153846  0.076923"
      ],
      "text/html": [
       "<div>\n",
       "<style scoped>\n",
       "    .dataframe tbody tr th:only-of-type {\n",
       "        vertical-align: middle;\n",
       "    }\n",
       "\n",
       "    .dataframe tbody tr th {\n",
       "        vertical-align: top;\n",
       "    }\n",
       "\n",
       "    .dataframe thead th {\n",
       "        text-align: right;\n",
       "    }\n",
       "</style>\n",
       "<table border=\"1\" class=\"dataframe\">\n",
       "  <thead>\n",
       "    <tr style=\"text-align: right;\">\n",
       "      <th></th>\n",
       "      <th>exciting</th>\n",
       "      <th>happy</th>\n",
       "      <th>upset</th>\n",
       "      <th>furious</th>\n",
       "    </tr>\n",
       "    <tr>\n",
       "      <th>class</th>\n",
       "      <th></th>\n",
       "      <th></th>\n",
       "      <th></th>\n",
       "      <th></th>\n",
       "    </tr>\n",
       "  </thead>\n",
       "  <tbody>\n",
       "    <tr>\n",
       "      <th>neg</th>\n",
       "      <td>0.166667</td>\n",
       "      <td>0.166667</td>\n",
       "      <td>0.333333</td>\n",
       "      <td>0.333333</td>\n",
       "    </tr>\n",
       "    <tr>\n",
       "      <th>pos</th>\n",
       "      <td>0.461538</td>\n",
       "      <td>0.307692</td>\n",
       "      <td>0.153846</td>\n",
       "      <td>0.076923</td>\n",
       "    </tr>\n",
       "  </tbody>\n",
       "</table>\n",
       "</div>"
      ]
     },
     "execution_count": 30,
     "metadata": {},
     "output_type": "execute_result"
    }
   ],
   "execution_count": 30
  },
  {
   "metadata": {},
   "cell_type": "code",
   "outputs": [],
   "execution_count": null,
   "source": "",
   "id": "c7f471571d7057a4"
  }
 ],
 "metadata": {
  "kernelspec": {
   "display_name": "Python 3",
   "language": "python",
   "name": "python3"
  },
  "language_info": {
   "codemirror_mode": {
    "name": "ipython",
    "version": 2
   },
   "file_extension": ".py",
   "mimetype": "text/x-python",
   "name": "python",
   "nbconvert_exporter": "python",
   "pygments_lexer": "ipython2",
   "version": "2.7.6"
  }
 },
 "nbformat": 4,
 "nbformat_minor": 5
}
