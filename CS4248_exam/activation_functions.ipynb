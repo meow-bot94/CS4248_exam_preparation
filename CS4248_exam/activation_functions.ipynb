{
 "cells": [
  {
   "cell_type": "code",
   "id": "initial_id",
   "metadata": {
    "collapsed": true,
    "ExecuteTime": {
     "end_time": "2024-04-29T05:45:05.837846Z",
     "start_time": "2024-04-29T05:45:02.557837Z"
    }
   },
   "source": [
    "import torch\n",
    "import numpy as np\n",
    "import pandas as pd"
   ],
   "outputs": [],
   "execution_count": 1
  },
  {
   "metadata": {},
   "cell_type": "code",
   "outputs": [
    {
     "data": {
      "text/plain": [
       "array([0, 0, 0, 1, 2])"
      ]
     },
     "execution_count": 13,
     "metadata": {},
     "output_type": "execute_result"
    }
   ],
   "execution_count": 13,
   "source": [
    "def relu(x):\n",
    "    return np.clip(x, a_min=0, a_max=None)\n",
    "\n",
    "relu(np.array([-2, -1, 0, 1, 2]))"
   ],
   "id": "3793661fdff31843"
  },
  {
   "metadata": {
    "ExecuteTime": {
     "end_time": "2024-04-29T05:46:52.448247Z",
     "start_time": "2024-04-29T05:46:52.439701Z"
    }
   },
   "cell_type": "code",
   "source": [
    "def sigmoid(x): \n",
    "    return 1 / (1 + np.exp(-x))"
   ],
   "id": "f392cc4c87550f5c",
   "outputs": [],
   "execution_count": 7
  },
  {
   "metadata": {
    "ExecuteTime": {
     "end_time": "2024-04-29T05:47:12.049835Z",
     "start_time": "2024-04-29T05:47:12.021708Z"
    }
   },
   "cell_type": "code",
   "source": "sigmoid(np.array([-2, -1, 0, 1, 2]))",
   "id": "bd83a59c3ad7d968",
   "outputs": [
    {
     "data": {
      "text/plain": [
       "array([0.11920292, 0.26894142, 0.5       , 0.73105858, 0.88079708])"
      ]
     },
     "execution_count": 9,
     "metadata": {},
     "output_type": "execute_result"
    }
   ],
   "execution_count": 9
  },
  {
   "metadata": {},
   "cell_type": "markdown",
   "source": "tanh(x) = 2 * sigmoid(2x) — 1",
   "id": "38f8ec1c38546cae"
  },
  {
   "metadata": {
    "ExecuteTime": {
     "end_time": "2024-04-29T05:48:30.908775Z",
     "start_time": "2024-04-29T05:48:30.896673Z"
    }
   },
   "cell_type": "code",
   "source": "np.tanh(np.array([-2, -1, 0, 1, 2]))",
   "id": "69eecec6336c89df",
   "outputs": [
    {
     "data": {
      "text/plain": [
       "array([-0.96402758, -0.76159416,  0.        ,  0.76159416,  0.96402758])"
      ]
     },
     "execution_count": 14,
     "metadata": {},
     "output_type": "execute_result"
    }
   ],
   "execution_count": 14
  }
 ],
 "metadata": {
  "kernelspec": {
   "display_name": "Python 3",
   "language": "python",
   "name": "python3"
  },
  "language_info": {
   "codemirror_mode": {
    "name": "ipython",
    "version": 2
   },
   "file_extension": ".py",
   "mimetype": "text/x-python",
   "name": "python",
   "nbconvert_exporter": "python",
   "pygments_lexer": "ipython2",
   "version": "2.7.6"
  }
 },
 "nbformat": 4,
 "nbformat_minor": 5
}
